{
 "cells": [
  {
   "cell_type": "code",
   "execution_count": 67,
   "metadata": {},
   "outputs": [],
   "source": [
    "## Read the API key\n",
    "\n",
    "import os\n",
    "from dotenv import load_dotenv\n",
    "\n",
    "# Load environment variables from .env file\n",
    "load_dotenv()\n",
    "\n",
    "# Access the API key\n",
    "api_key = os.getenv('API_KEY')"
   ]
  },
  {
   "cell_type": "code",
   "execution_count": 68,
   "metadata": {},
   "outputs": [],
   "source": [
    "# Other inputs\n",
    "symbol = \"TQQQ\""
   ]
  },
  {
   "cell_type": "code",
   "execution_count": 69,
   "metadata": {},
   "outputs": [],
   "source": [
    "# Make the API request\n",
    "import requests\n",
    "url = f\"https://financialmodelingprep.com/api/v3/historical-price-full/{symbol}?apikey={api_key}\""
   ]
  },
  {
   "cell_type": "code",
   "execution_count": 70,
   "metadata": {},
   "outputs": [],
   "source": [
    "# Get the response\n",
    "response = requests.get(url)"
   ]
  },
  {
   "cell_type": "code",
   "execution_count": 71,
   "metadata": {},
   "outputs": [],
   "source": [
    "if response.status_code == 200:\n",
    "    # Parse the JSON response\n",
    "    data = response.json()\n",
    "    \n",
    "    # Accessing the historical price data\n",
    "    if 'historical' in data:\n",
    "        historical_data = data['historical']\n",
    "        #for entry in historical_data:\n",
    "            #close = entry['close']\n",
    "            #print(f\"Close: {close}\")\n",
    "    else:\n",
    "        print(\"No historical data found.\")\n",
    "else:\n",
    "    print(f\"Error: {response.status_code}\")\n"
   ]
  },
  {
   "cell_type": "code",
   "execution_count": 72,
   "metadata": {},
   "outputs": [],
   "source": [
    "# Convert JSON to DataFrame\n",
    "import pandas as pd\n",
    "df = pd.DataFrame(historical_data)"
   ]
  },
  {
   "cell_type": "code",
   "execution_count": 73,
   "metadata": {},
   "outputs": [
    {
     "data": {
      "text/plain": [
       "(1258, 13)"
      ]
     },
     "execution_count": 73,
     "metadata": {},
     "output_type": "execute_result"
    }
   ],
   "source": [
    "df.shape"
   ]
  },
  {
   "cell_type": "code",
   "execution_count": 74,
   "metadata": {},
   "outputs": [
    {
     "data": {
      "text/plain": [
       "<bound method NDFrame.head of             date   open   high    low  close  adjClose    volume  \\\n",
       "0     2024-07-05  79.57  81.85  79.43  81.63     81.63  39351922   \n",
       "1     2024-07-03  76.95  79.31  76.95  79.23     79.23  28075243   \n",
       "2     2024-07-02  74.29  77.38  74.24  77.33     77.33  37475143   \n",
       "3     2024-07-01  74.16  75.29  72.42  75.03     75.03  43278690   \n",
       "4     2024-06-28  75.29  77.53  73.45  73.82     73.82  53901476   \n",
       "...          ...    ...    ...    ...    ...       ...       ...   \n",
       "1253  2019-07-12  16.89  17.13  16.84  17.12     16.62  44596240   \n",
       "1254  2019-07-11  16.97  17.08  16.68  16.84     16.35  63924704   \n",
       "1255  2019-07-10  16.70  17.02  16.60  16.89     16.39  77054612   \n",
       "1256  2019-07-09  15.92  16.45  15.88  16.40     15.92  44297504   \n",
       "1257  2019-07-08  16.20  16.20  15.96  16.16     15.68  52893532   \n",
       "\n",
       "      unadjustedVolume  change  changePercent     vwap        label  \\\n",
       "0             39351922  2.0600        2.59000  80.6200  July 05, 24   \n",
       "1             28075243  2.2800        2.96000  78.1100  July 03, 24   \n",
       "2             37475143  3.0400        4.09000  75.8100  July 02, 24   \n",
       "3             43278690  0.8700        1.17000  74.2250  July 01, 24   \n",
       "4             53901476 -1.4700       -1.95000  75.0225  June 28, 24   \n",
       "...                ...     ...            ...      ...          ...   \n",
       "1253          44596240  0.2350        1.36000  16.9950  July 12, 19   \n",
       "1254          63924704 -0.1275       -0.76606  16.8925  July 11, 19   \n",
       "1255          77054612  0.1850        1.14000  16.8025  July 10, 19   \n",
       "1256          44297504  0.4825        3.02000  16.1625  July 09, 19   \n",
       "1257          52893532 -0.0400       -0.24691  16.1300  July 08, 19   \n",
       "\n",
       "      changeOverTime  \n",
       "0           0.025900  \n",
       "1           0.029600  \n",
       "2           0.040900  \n",
       "3           0.011700  \n",
       "4          -0.019500  \n",
       "...              ...  \n",
       "1253        0.013600  \n",
       "1254       -0.007661  \n",
       "1255        0.011400  \n",
       "1256        0.030200  \n",
       "1257       -0.002469  \n",
       "\n",
       "[1258 rows x 13 columns]>"
      ]
     },
     "execution_count": 74,
     "metadata": {},
     "output_type": "execute_result"
    }
   ],
   "source": [
    "df.head"
   ]
  },
  {
   "cell_type": "code",
   "execution_count": 75,
   "metadata": {},
   "outputs": [],
   "source": [
    "# DATA PREPROCESSING\n",
    "\n",
    "df['hi-lo'] = (df['high'] - df['low'])*200/(df['high'] + df['low'])"
   ]
  },
  {
   "cell_type": "code",
   "execution_count": 76,
   "metadata": {},
   "outputs": [
    {
     "data": {
      "text/plain": [
       "0       3.000992\n",
       "1       3.020607\n",
       "2       4.141934\n",
       "3       3.885993\n",
       "4       5.404689\n",
       "          ...   \n",
       "1253    1.707389\n",
       "1254    2.369668\n",
       "1255    2.498513\n",
       "1256    3.526137\n",
       "1257    1.492537\n",
       "Name: hi-lo, Length: 1258, dtype: float64"
      ]
     },
     "execution_count": 76,
     "metadata": {},
     "output_type": "execute_result"
    }
   ],
   "source": [
    "df['hi-lo']"
   ]
  },
  {
   "cell_type": "code",
   "execution_count": 77,
   "metadata": {},
   "outputs": [
    {
     "data": {
      "text/plain": [
       "<bound method NDFrame.head of             date   open   high    low  close  adjClose    volume  \\\n",
       "0     2024-07-05  79.57  81.85  79.43  81.63     81.63  39351922   \n",
       "1     2024-07-03  76.95  79.31  76.95  79.23     79.23  28075243   \n",
       "2     2024-07-02  74.29  77.38  74.24  77.33     77.33  37475143   \n",
       "3     2024-07-01  74.16  75.29  72.42  75.03     75.03  43278690   \n",
       "4     2024-06-28  75.29  77.53  73.45  73.82     73.82  53901476   \n",
       "...          ...    ...    ...    ...    ...       ...       ...   \n",
       "1253  2019-07-12  16.89  17.13  16.84  17.12     16.62  44596240   \n",
       "1254  2019-07-11  16.97  17.08  16.68  16.84     16.35  63924704   \n",
       "1255  2019-07-10  16.70  17.02  16.60  16.89     16.39  77054612   \n",
       "1256  2019-07-09  15.92  16.45  15.88  16.40     15.92  44297504   \n",
       "1257  2019-07-08  16.20  16.20  15.96  16.16     15.68  52893532   \n",
       "\n",
       "      unadjustedVolume  change  changePercent     vwap        label  \\\n",
       "0             39351922  2.0600        2.59000  80.6200  July 05, 24   \n",
       "1             28075243  2.2800        2.96000  78.1100  July 03, 24   \n",
       "2             37475143  3.0400        4.09000  75.8100  July 02, 24   \n",
       "3             43278690  0.8700        1.17000  74.2250  July 01, 24   \n",
       "4             53901476 -1.4700       -1.95000  75.0225  June 28, 24   \n",
       "...                ...     ...            ...      ...          ...   \n",
       "1253          44596240  0.2350        1.36000  16.9950  July 12, 19   \n",
       "1254          63924704 -0.1275       -0.76606  16.8925  July 11, 19   \n",
       "1255          77054612  0.1850        1.14000  16.8025  July 10, 19   \n",
       "1256          44297504  0.4825        3.02000  16.1625  July 09, 19   \n",
       "1257          52893532 -0.0400       -0.24691  16.1300  July 08, 19   \n",
       "\n",
       "      changeOverTime     hi-lo  \n",
       "0           0.025900  3.000992  \n",
       "1           0.029600  3.020607  \n",
       "2           0.040900  4.141934  \n",
       "3           0.011700  3.885993  \n",
       "4          -0.019500  5.404689  \n",
       "...              ...       ...  \n",
       "1253        0.013600  1.707389  \n",
       "1254       -0.007661  2.369668  \n",
       "1255        0.011400  2.498513  \n",
       "1256        0.030200  3.526137  \n",
       "1257       -0.002469  1.492537  \n",
       "\n",
       "[1258 rows x 14 columns]>"
      ]
     },
     "execution_count": 77,
     "metadata": {},
     "output_type": "execute_result"
    }
   ],
   "source": [
    "df.head"
   ]
  },
  {
   "cell_type": "code",
   "execution_count": 78,
   "metadata": {},
   "outputs": [],
   "source": [
    "df1 = df[[\"hi-lo\", \"volume\" , \"changePercent\"]]"
   ]
  },
  {
   "cell_type": "code",
   "execution_count": 79,
   "metadata": {},
   "outputs": [
    {
     "data": {
      "text/plain": [
       "<bound method NDFrame.head of          hi-lo    volume  changePercent\n",
       "0     3.000992  39351922        2.59000\n",
       "1     3.020607  28075243        2.96000\n",
       "2     4.141934  37475143        4.09000\n",
       "3     3.885993  43278690        1.17000\n",
       "4     5.404689  53901476       -1.95000\n",
       "...        ...       ...            ...\n",
       "1253  1.707389  44596240        1.36000\n",
       "1254  2.369668  63924704       -0.76606\n",
       "1255  2.498513  77054612        1.14000\n",
       "1256  3.526137  44297504        3.02000\n",
       "1257  1.492537  52893532       -0.24691\n",
       "\n",
       "[1258 rows x 3 columns]>"
      ]
     },
     "execution_count": 79,
     "metadata": {},
     "output_type": "execute_result"
    }
   ],
   "source": [
    "df1.head"
   ]
  },
  {
   "cell_type": "code",
   "execution_count": 80,
   "metadata": {},
   "outputs": [],
   "source": [
    "# Write DataFrame to CSV\n",
    "df1.to_csv('outputdata.csv', index=False)"
   ]
  }
 ],
 "metadata": {
  "kernelspec": {
   "display_name": "dataAPI_env",
   "language": "python",
   "name": "python3"
  },
  "language_info": {
   "codemirror_mode": {
    "name": "ipython",
    "version": 3
   },
   "file_extension": ".py",
   "mimetype": "text/x-python",
   "name": "python",
   "nbconvert_exporter": "python",
   "pygments_lexer": "ipython3",
   "version": "3.8.10"
  }
 },
 "nbformat": 4,
 "nbformat_minor": 2
}
